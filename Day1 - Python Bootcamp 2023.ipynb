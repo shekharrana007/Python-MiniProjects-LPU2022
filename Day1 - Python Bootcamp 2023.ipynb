{
  "cells": [
    {
      "cell_type": "markdown",
      "metadata": {
        "id": "view-in-github",
        "colab_type": "text"
      },
      "source": [
        "<a href=\"https://colab.research.google.com/github/shekharrana007/Python-MiniProjects-LPU2022/blob/main/Day1%20-%20Python%20Bootcamp%202023.ipynb\" target=\"_parent\"><img src=\"https://colab.research.google.com/assets/colab-badge.svg\" alt=\"Open In Colab\"/></a>"
      ]
    },
    {
      "cell_type": "markdown",
      "source": [
        "# **Python Output**\n",
        "\n",
        "Syntax: print(value, ..., sep='', end = '\\n', file = sys.stdout, flush = False)"
      ],
      "metadata": {
        "id": "rhcrbR9jDJ5-"
      }
    },
    {
      "cell_type": "code",
      "source": [
        "#seperating or changing space values\n",
        "print(\"hello\",\"world\",sep ='-')\n",
        "print(\"hello\", end =' ')\n",
        "print(\"world\")\n"
      ],
      "metadata": {
        "id": "1ZJWxY-RDNt9",
        "outputId": "82eaf516-db0e-42b2-f7d4-b2f88f9c179d",
        "colab": {
          "base_uri": "https://localhost:8080/"
        }
      },
      "execution_count": 3,
      "outputs": [
        {
          "output_type": "stream",
          "name": "stdout",
          "text": [
            "hello-world\n",
            "hello world\n"
          ]
        }
      ]
    },
    {
      "cell_type": "code",
      "source": [
        "# printing two statemetns in a line\n",
        "print(5)\n",
        "\n"
      ],
      "metadata": {
        "id": "b2X6sZUPD2pt"
      },
      "execution_count": 2,
      "outputs": []
    },
    {
      "cell_type": "markdown",
      "source": [
        "# **Data Types in Python**"
      ],
      "metadata": {
        "id": "oRLwXYOrEBM9"
      }
    },
    {
      "cell_type": "code",
      "source": [
        "# 1) Integer\n",
        "print(4)"
      ],
      "metadata": {
        "id": "tz7HKv-iEEnd",
        "outputId": "997af377-ffed-4534-ba94-5367fb9bbfac",
        "colab": {
          "base_uri": "https://localhost:8080/"
        }
      },
      "execution_count": 5,
      "outputs": [
        {
          "output_type": "stream",
          "name": "stdout",
          "text": [
            "4\n"
          ]
        }
      ]
    },
    {
      "cell_type": "code",
      "source": [
        "# 2) Decimal Float\n",
        "print(23.34)"
      ],
      "metadata": {
        "id": "yqj3t-VIEqU1",
        "outputId": "ef010e9c-3f19-4f46-c1b2-1ad991b72485",
        "colab": {
          "base_uri": "https://localhost:8080/"
        }
      },
      "execution_count": 6,
      "outputs": [
        {
          "output_type": "stream",
          "name": "stdout",
          "text": [
            "23.34\n"
          ]
        }
      ]
    },
    {
      "cell_type": "code",
      "source": [
        "# 3) Boolean\n",
        "print(0)\n",
        "print(2)\n",
        "print(True)\n",
        "print(False)"
      ],
      "metadata": {
        "id": "ESY_khogEuo2",
        "outputId": "b05dd5b6-6e42-45cc-ddcc-73f8d81f09be",
        "colab": {
          "base_uri": "https://localhost:8080/"
        }
      },
      "execution_count": 7,
      "outputs": [
        {
          "output_type": "stream",
          "name": "stdout",
          "text": [
            "0\n",
            "2\n",
            "True\n",
            "False\n"
          ]
        }
      ]
    },
    {
      "cell_type": "code",
      "source": [
        "# 4) Text/Strings\n",
        "print(\"shekhar rana\")\n",
        "print(\"4\")\n",
        "print(\"32.3\")"
      ],
      "metadata": {
        "id": "_JAmgCH8E0Qe",
        "outputId": "0db41425-cd5b-4e5f-b4e4-1ca007a6e162",
        "colab": {
          "base_uri": "https://localhost:8080/"
        }
      },
      "execution_count": 10,
      "outputs": [
        {
          "output_type": "stream",
          "name": "stdout",
          "text": [
            "shekhar rana\n",
            "4\n",
            "32.3\n"
          ]
        }
      ]
    },
    {
      "cell_type": "code",
      "source": [
        "# 5) Complex\n",
        "print(4+5j)\n",
        "\n"
      ],
      "metadata": {
        "id": "MAa_nZTME6IK",
        "outputId": "70af479e-c7c4-42c2-e4f3-f9d00136f435",
        "colab": {
          "base_uri": "https://localhost:8080/"
        }
      },
      "execution_count": 11,
      "outputs": [
        {
          "output_type": "stream",
          "name": "stdout",
          "text": [
            "(4+5j)\n"
          ]
        }
      ]
    },
    {
      "cell_type": "code",
      "source": [
        "# 6) List\n",
        "print([\"hello\",1,2,3,4,\"shekhar rana\"])"
      ],
      "metadata": {
        "id": "S3E4MoRIE97R",
        "outputId": "4dac626a-7839-431a-da7f-114214362517",
        "colab": {
          "base_uri": "https://localhost:8080/"
        }
      },
      "execution_count": 12,
      "outputs": [
        {
          "output_type": "stream",
          "name": "stdout",
          "text": [
            "['hello', 1, 2, 3, 4, 'shekhar rana']\n"
          ]
        }
      ]
    },
    {
      "cell_type": "code",
      "source": [
        "# 7) Tuple\n",
        "print((1,2,3,\"hello\"))"
      ],
      "metadata": {
        "id": "W0b0W8hYFAYd",
        "outputId": "e5c26fc8-07d7-427c-dc6f-4cf9bb344b68",
        "colab": {
          "base_uri": "https://localhost:8080/"
        }
      },
      "execution_count": 15,
      "outputs": [
        {
          "output_type": "stream",
          "name": "stdout",
          "text": [
            "(1, 2, 3, 'hello')\n"
          ]
        }
      ]
    },
    {
      "cell_type": "code",
      "source": [
        "# 8) Sets\n",
        "print({1,2,3,4,2,3,4,7})"
      ],
      "metadata": {
        "id": "KUJLKg1IFEeP",
        "outputId": "13a8875e-5069-40c9-ec80-08cd936901ab",
        "colab": {
          "base_uri": "https://localhost:8080/"
        }
      },
      "execution_count": 13,
      "outputs": [
        {
          "output_type": "stream",
          "name": "stdout",
          "text": [
            "{1, 2, 3, 4, 7}\n"
          ]
        }
      ]
    },
    {
      "cell_type": "code",
      "source": [
        "# 9) Dictionary\n",
        "print({'name': 'python'},{'roll no':'23'})"
      ],
      "metadata": {
        "id": "AnA-TREeFHGV",
        "outputId": "e62eb9c7-7c56-4c56-ed93-f8b7eb48010b",
        "colab": {
          "base_uri": "https://localhost:8080/"
        }
      },
      "execution_count": 14,
      "outputs": [
        {
          "output_type": "stream",
          "name": "stdout",
          "text": [
            "{'name': 'python'} {'roll no': '23'}\n"
          ]
        }
      ]
    },
    {
      "cell_type": "markdown",
      "source": [
        "# **VARIABLE DECLARATION IN PYTHON**\n",
        "Variables are containers for future use."
      ],
      "metadata": {
        "id": "ezCMX1A6FZmD"
      }
    },
    {
      "cell_type": "code",
      "source": [
        "# How to check types?\n",
        "print(type(23))\n",
        "print(type(\"hello\"))"
      ],
      "metadata": {
        "id": "3m8zOIb6FJJ_",
        "outputId": "a057fbc9-3da3-46cc-ee35-58ff89da30cb",
        "colab": {
          "base_uri": "https://localhost:8080/"
        }
      },
      "execution_count": 17,
      "outputs": [
        {
          "output_type": "stream",
          "name": "stdout",
          "text": [
            "<class 'int'>\n",
            "<class 'str'>\n"
          ]
        }
      ]
    },
    {
      "cell_type": "code",
      "source": [
        "# Conventional Declaration method\n",
        "a =3"
      ],
      "metadata": {
        "id": "tHz-SMToFexi"
      },
      "execution_count": 20,
      "outputs": []
    },
    {
      "cell_type": "code",
      "source": [
        "# But Python is different\n",
        "a=\"shekhar\"\n",
        "print(a)"
      ],
      "metadata": {
        "id": "eJmktdUOGUIG",
        "outputId": "6e629a40-5b9f-4651-d98e-30cf6f383fee",
        "colab": {
          "base_uri": "https://localhost:8080/"
        }
      },
      "execution_count": 18,
      "outputs": [
        {
          "output_type": "stream",
          "name": "stdout",
          "text": [
            "shekhar\n"
          ]
        }
      ]
    },
    {
      "cell_type": "markdown",
      "source": [
        "# **Dynamic Typing**\n",
        "\n",
        "In C/C++ or Java like languages, we tell compilers the type of variables while declaration.\n",
        "E.g.:"
      ],
      "metadata": {
        "id": "ctvZnVi-GjLH"
      }
    },
    {
      "cell_type": "code",
      "source": [
        "# int a = 5\n",
        "# string name = 'Mohit'"
      ],
      "metadata": {
        "id": "pSSG5qnxHujO"
      },
      "execution_count": null,
      "outputs": []
    },
    {
      "cell_type": "markdown",
      "source": [
        "But in Python there's no need of type declaration. It auto-detects the type of variables.\n",
        "\n"
      ],
      "metadata": {
        "id": "d7Ml174IH79u"
      }
    },
    {
      "cell_type": "markdown",
      "source": [
        "# **Static Typing**\n",
        "In C/C++ or Java like languages, we define the type of variables while declaration, this is called static typing and Python does not support this."
      ],
      "metadata": {
        "id": "P87Isru9IGum"
      }
    },
    {
      "cell_type": "markdown",
      "source": [
        "# **Dynamic Binding vs Static Binding**\n",
        "Static binding refers to the execution of a program where type of object is determined at compile time i.e., when compiler executes the code it know the type of object or class to which object belongs. While in case of dynamic binding the type of object is determined at runtime.\n",
        "E.g.: "
      ],
      "metadata": {
        "id": "Ql8-8O_xJBAZ"
      }
    },
    {
      "cell_type": "code",
      "source": [
        "a =2\n",
        "print(a)\n",
        "print(type(a))\n",
        "\n",
        "a=\"shekhar\"\n",
        "print(a)\n",
        "print(type(a))"
      ],
      "metadata": {
        "id": "aC-zGZqEJ3Tq",
        "outputId": "928c0162-bea5-4b7f-ae0f-009642f7a84f",
        "colab": {
          "base_uri": "https://localhost:8080/"
        }
      },
      "execution_count": 22,
      "outputs": [
        {
          "output_type": "stream",
          "name": "stdout",
          "text": [
            "2\n",
            "<class 'int'>\n",
            "shekhar\n",
            "<class 'str'>\n"
          ]
        }
      ]
    },
    {
      "cell_type": "markdown",
      "source": [
        "in static binding once the variable type is declared it cannot hold any other variable type."
      ],
      "metadata": {
        "id": "nWfEqIzTKdZP"
      }
    },
    {
      "cell_type": "markdown",
      "source": [
        "# **Declaring Variables of Python in Style**\n"
      ],
      "metadata": {
        "id": "GHWEbhNoKq3r"
      }
    },
    {
      "cell_type": "code",
      "source": [
        "# 1) a = ?\n",
        "# 2) a,b,c = ?\n",
        "# 3) a = b = c = ?\n",
        "a,b,c=1,4,5\n",
        "print(a,b,c)\n",
        "a=b=c=10\n",
        "print(a,b,c)\n",
        "a=3\n",
        "b=2\n",
        "a,b=b,a\n",
        "\n",
        "print(a,b)"
      ],
      "metadata": {
        "id": "6QEPXLiNKzsk",
        "outputId": "e2b8382c-5a7b-4a1f-801c-f4705b5af05e",
        "colab": {
          "base_uri": "https://localhost:8080/"
        }
      },
      "execution_count": 24,
      "outputs": [
        {
          "output_type": "stream",
          "name": "stdout",
          "text": [
            "1 4 5\n",
            "10 10 10\n",
            "2 3\n"
          ]
        }
      ]
    },
    {
      "cell_type": "markdown",
      "source": [
        "# **Comments**"
      ],
      "metadata": {
        "id": "jcp7Rxl4LF1o"
      }
    },
    {
      "cell_type": "code",
      "source": [
        "#"
      ],
      "metadata": {
        "id": "z4UOM8WjVf8L"
      },
      "execution_count": null,
      "outputs": []
    }
  ],
  "metadata": {
    "colab": {
      "name": "Welcome To Colaboratory",
      "provenance": [],
      "include_colab_link": true
    },
    "kernelspec": {
      "display_name": "Python 3",
      "name": "python3"
    }
  },
  "nbformat": 4,
  "nbformat_minor": 0
}